{
  "cells": [
    {
      "cell_type": "markdown",
      "metadata": {
        "id": "SCuKBPM3Ol56"
      },
      "source": [
        "Title: **Feature Selection – Safety Climate in Indonesia – Likert Scale Data**"
      ]
    },
    {
      "cell_type": "markdown",
      "metadata": {
        "id": "8NH8YNs4XZoK"
      },
      "source": [
        "# 0. Import Libraries and Packages"
      ]
    },
    {
      "cell_type": "code",
      "execution_count": 1,
      "metadata": {
        "colab": {
          "base_uri": "https://localhost:8080/"
        },
        "id": "ZS_YsdoKOtSm",
        "outputId": "a6cf9538-3f07-46ea-fbfe-fadcfd295c29"
      },
      "outputs": [],
      "source": [
        "#!pip install geneticalgorithm"
      ]
    },
    {
      "cell_type": "code",
      "execution_count": 2,
      "metadata": {
        "id": "jVGLVYhiOl58"
      },
      "outputs": [],
      "source": [
        "import pandas as pd                                  # Pandas Dataframe Tools\n",
        "import numpy as np                                   # Numpy arrays and tools\n",
        "\n",
        "from numpy.random import randint\n",
        "from numpy.random import rand\n",
        "\n",
        "import matplotlib.pyplot as plt                      # for plotting the charts and graphs\n",
        "%matplotlib inline\n",
        "\n",
        "from scipy.stats import spearmanr\n",
        "from scipy.stats import pearsonr\n",
        "\n",
        "from sklearn.model_selection import train_test_split # creation of training and testing datasets\n",
        "from sklearn.ensemble import RandomForestClassifier\n",
        "from sklearn import svm\n",
        "from sklearn.neighbors import KNeighborsClassifier\n",
        "from sklearn.naive_bayes import GaussianNB\n",
        "from sklearn.neural_network import MLPClassifier\n",
        "from sklearn.ensemble import BaggingClassifier\n",
        "from sklearn.ensemble import AdaBoostClassifier\n",
        "\n",
        "from sklearn.metrics import classification_report \n",
        "from sklearn.metrics import accuracy_score\n",
        "from sklearn.metrics import confusion_matrix\n",
        "from sklearn.metrics import ConfusionMatrixDisplay\n",
        "\n",
        "import seaborn as sn \n",
        "from sklearn import preprocessing\n",
        "\n",
        "import time \n",
        "\n",
        "from geneticalgorithm import geneticalgorithm as ga\n"
      ]
    },
    {
      "cell_type": "markdown",
      "metadata": {
        "id": "nT6qx46_Ol59"
      },
      "source": [
        "# 1. Loading Dataset and Preliminary pre-processing"
      ]
    },
    {
      "cell_type": "code",
      "execution_count": 3,
      "metadata": {
        "colab": {
          "base_uri": "https://localhost:8080/"
        },
        "id": "PaDLvaGNOl59",
        "outputId": "c33c24b8-9755-4f6a-82db-ea9dc9839d2a"
      },
      "outputs": [],
      "source": [
        "\n",
        "# **Importing the Dataset in Pandas Dataframe**\n",
        "df = pd.read_excel(\"dataset.xlsx\")\n",
        "\n",
        "# Using the provided dataset in excel, the source of each safety dimension is found\n",
        "dim1 = [1 ,4 ,6 ,8 ,13,14,15,17]\n",
        "dim2 = [20,35,38,39,40,45]\n",
        "dim3 = [56,57,58]\n",
        "dim4 = [28,31]\n",
        "dim5 = [18,27,36]\n",
        "all_dim = [dim1,dim2,dim3,dim4,dim5]\n",
        "attr_in_dim = {1:'A',2:'B',3:'C',4:'D',5:'E'}\n",
        "general_info = ['Age', 'Gender', 'Education', 'Position', 'Experience']\n",
        "\n",
        "# renaming attribute columns to characters with prefixes\n",
        "counter = 1\n",
        "for j in all_dim:\n",
        "    new_names = [(i,attr_in_dim.get(counter)+str(i)) for i in df.loc[:,j].columns.values]\n",
        "    df.rename(columns = dict(new_names), inplace=True)\n",
        "    counter+=1\n",
        "\n",
        "df.rename(columns={'A1': 'A01', 'A4': 'A04','A6':'A06','A8':'A08'}, inplace=True)\n",
        "\n",
        "#correcting the dim variables\n",
        "dim1 =['A' + str(x) for x in dim1]\n",
        "dim2 =['B' + str(x) for x in dim2]\n",
        "dim3 =['C' + str(x) for x in dim3]\n",
        "dim4 =['D' + str(x) for x in dim4]\n",
        "dim5 =['E' + str(x) for x in dim5]\n",
        "\n",
        "dim1[0]='A01'\n",
        "dim1[1]='A04'\n",
        "dim1[2]='A06'\n",
        "dim1[3]='A08'\n",
        "\n",
        "all_dim = [dim1,dim2,dim3,dim4,dim5]\n",
        "\n",
        "# Identify the project type \n",
        "df['project'] = 'BLDG'\n",
        "df.loc[df.head(144).index,'project'] = 'INFRA'\n",
        "\n",
        "# Clean Likert Scale\n",
        "for i in all_dim:\n",
        "    for j in i:\n",
        "        df[j]=df[j].apply(lambda x: x if (x==int(x)) else None)\n",
        "\n",
        "# Finding NaN (null) Values\n",
        "column_names = df.columns\n",
        "Nan_columns = list()\n",
        "for col in column_names:\n",
        "    if (True in np.array(df[col].isnull())):\n",
        "        Nan_columns.append(col)\n",
        "Nan_columns\n",
        "\n",
        "#Replace null values with Mode value of each column\n",
        "for i in Nan_columns:\n",
        "    df[i].fillna(df[i].mode()[0],inplace=True)\n",
        "\n",
        "# Drop manually-labeled columns  -- these columns were manually labeled and was not part of the quesntionnaire responses\n",
        "df.drop(df.iloc[:,27:40],axis=1,inplace=True)\n",
        "\n",
        "quantify_likert_scale = {\n",
        "    1.0:0,\n",
        "    1.5:0.05,\n",
        "    2.0:0.10,\n",
        "    2.5:0.22,\n",
        "    3.0:0.35,\n",
        "    3.5:0.50,\n",
        "    4.0:0.65,\n",
        "    4.5:0.92,\n",
        "    5.0:0.90,\n",
        "    5.5:0.95,\n",
        "    6.0:1.00\n",
        "    }\n",
        "\n",
        "# Create Empty MODEL\n",
        "global MODEL\n",
        "MODEL = {} "
      ]
    },
    {
      "cell_type": "markdown",
      "metadata": {
        "id": "C6TKG8aMpn4D"
      },
      "source": [
        "# 2. Functions"
      ]
    },
    {
      "cell_type": "markdown",
      "metadata": {
        "id": "WOiFe4ZwOl5-"
      },
      "source": [
        "## 2.1 Assign Age and Experience Categories"
      ]
    },
    {
      "cell_type": "code",
      "execution_count": 4,
      "metadata": {
        "id": "VA5xLhZMOl5-"
      },
      "outputs": [],
      "source": [
        "def get_age_cat(x):\n",
        "    if x<20:\n",
        "        return \"17-19\"\n",
        "    elif 20<=x<=29:\n",
        "        return \"20s\"\n",
        "    elif 30<=x<=39:\n",
        "        return \"30s\"\n",
        "    elif 40<=x<=49:\n",
        "        return \"40s\"\n",
        "    elif 50<=x<=59:\n",
        "        return \"50s\"\n",
        "    elif 60<=x:\n",
        "        return \"60s+\"\n",
        "    else:\n",
        "        return False\n",
        "    \n",
        "def get_experience_level(x):\n",
        "    if x<6:\n",
        "        return \"01 to 05\"\n",
        "    elif 6<=x<=10:\n",
        "        return \"06 to 10\"\n",
        "    elif 11<=x<=15:\n",
        "        return \"11 to 15\"\n",
        "    elif 16<=x<=20:\n",
        "        return \"16 to 20\"\n",
        "    elif 20<x:\n",
        "        return \"20+\"\n",
        "    else:\n",
        "        return False"
      ]
    },
    {
      "cell_type": "code",
      "execution_count": 5,
      "metadata": {
        "id": "O1RvEhz7Ol6B"
      },
      "outputs": [],
      "source": [
        "#Create \"Age Category\" and \"Experience Level\"\n",
        "df['age_cat'] = df['Age'].apply(get_age_cat)\n",
        "df['exper_level'] = df['Experience'].apply(get_experience_level)"
      ]
    },
    {
      "cell_type": "markdown",
      "metadata": {
        "id": "-H1O1Xk8YRg1"
      },
      "source": [
        "## 2.2 Assign Safety Classes "
      ]
    },
    {
      "cell_type": "code",
      "execution_count": 6,
      "metadata": {
        "id": "d0jEO9aVl38y"
      },
      "outputs": [],
      "source": [
        "def get_safety_class(given_score):\n",
        "    high, low = max(quantify_likert_scale.values()), min(quantify_likert_scale.values())\n",
        "    if given_score < low:\n",
        "        given_score = low\n",
        "    elif given_score > high:\n",
        "        given_score = high\n",
        "    number_of_classes = 5\n",
        "    interval = (high-low)/number_of_classes\n",
        "\n",
        "    for safety_class in range(number_of_classes):\n",
        "        mid = low+(interval*(safety_class+1))\n",
        "        if low<=given_score<=mid:\n",
        "            break\n",
        "\n",
        "    return safety_class+1"
      ]
    },
    {
      "cell_type": "markdown",
      "metadata": {
        "id": "2B913o4wgeZQ"
      },
      "source": [
        "## 2.3 Feature Subset I/O"
      ]
    },
    {
      "cell_type": "code",
      "execution_count": 7,
      "metadata": {
        "id": "rfhEW6Ayg2fj"
      },
      "outputs": [],
      "source": [
        "# STR to subset Converter\n",
        "def subset2str (subset = []):\n",
        "    str_subset = \"\"\n",
        "    for i in subset:\n",
        "        str_subset = str_subset + str(i)\n",
        "    return str_subset\n",
        "\n",
        "# GENE to STR Convert\n",
        "def str2subset (str_subset=\"\"):\n",
        "    subset = []\n",
        "    for i in str_subset:\n",
        "        subset.append(int(i))\n",
        "    return subset\n",
        "\n",
        "def solution_string(X):\n",
        "    solution = \"\"\n",
        "    counter = 0\n",
        "    for i in all_dim:\n",
        "        for j in i:\n",
        "            solution = solution + str(X[counter])\n",
        "            counter+=1\n",
        "        if j not in dim5:solution = solution + '-'\n",
        "    return solution"
      ]
    },
    {
      "cell_type": "code",
      "execution_count": 8,
      "metadata": {
        "id": "biUSkRHMAGLP"
      },
      "outputs": [],
      "source": [
        "def get_attribute_subset(inclusion_matrix=[]):\n",
        "  temp_list = []\n",
        "  attribute_subset = list(range(5,27))\n",
        "  for i in range(len(inclusion_matrix)):\n",
        "    if inclusion_matrix[i]==1:\n",
        "      temp_list.append(attribute_subset[i])\n",
        "  return temp_list\n"
      ]
    },
    {
      "cell_type": "code",
      "execution_count": 9,
      "metadata": {
        "id": "0aMZqgTiuDSt"
      },
      "outputs": [],
      "source": [
        "def get_attribute_names_subset(inclusion_matrix=[]):\n",
        "  temp_list = []\n",
        "  attribute_subset_names = feature.sort_values()\n",
        "  for i in range(len(inclusion_matrix)):\n",
        "    if inclusion_matrix[i]==1:\n",
        "      temp_list.append(attribute_subset_names[i])\n",
        "  return temp_list\n"
      ]
    },
    {
      "cell_type": "code",
      "execution_count": 10,
      "metadata": {
        "colab": {
          "base_uri": "https://localhost:8080/"
        },
        "id": "h94qFheZOl6J",
        "outputId": "f1889266-d3a1-4b41-d114-a4341451a33a"
      },
      "outputs": [
        {
          "data": {
            "text/plain": [
              "Index(['A01', 'A04', 'A06', 'A08', 'A13', 'A14', 'A15', 'A17', 'E18', 'B20',\n",
              "       'E27', 'D28', 'D31', 'B35', 'E36', 'B38', 'B39', 'B40', 'B45', 'C56',\n",
              "       'C57', 'C58'],\n",
              "      dtype='object')"
            ]
          },
          "execution_count": 10,
          "metadata": {},
          "output_type": "execute_result"
        }
      ],
      "source": [
        "feature = df.iloc[:,5:27].columns\n",
        "feature"
      ]
    },
    {
      "cell_type": "markdown",
      "metadata": {
        "id": "bC1XbmVgOl6K"
      },
      "source": [
        "## 2.4 Objective (Evaluation Criteria)"
      ]
    },
    {
      "cell_type": "code",
      "execution_count": 11,
      "metadata": {},
      "outputs": [],
      "source": [
        "def get_classifier(subset):\n",
        "\n",
        "    xtrain = traindf.iloc[:,get_attribute_subset(subset)]\n",
        "    xtest = testdf.iloc[:,get_attribute_subset(subset)]\n",
        "    #global Classifier\n",
        "    Classifier = 0\n",
        "    if MODEL['method_name'] == \"RF\":\n",
        "        Classifier = RandomForestClassifier(n_estimators=100, criterion = 'gini', random_state=1).fit(xtrain, y_train)\n",
        "        \n",
        "    elif MODEL['method_name'] == \"SVM\":\n",
        "        Classifier = svm.SVC(kernel='linear').fit(xtrain,y_train)    \n",
        "\n",
        "    elif MODEL['method_name'] == \"KNN\":\n",
        "        Classifier = KNeighborsClassifier(n_neighbors=5).fit(xtrain,y_train)\n",
        "    \n",
        "    elif MODEL['method_name'] == \"NB\":\n",
        "        Classifier = GaussianNB().fit(xtrain,y_train)\n",
        "    \n",
        "    elif MODEL['method_name'] ==\"Bagging\":\n",
        "        Classifier = BaggingClassifier(KNeighborsClassifier(),random_state=5).fit(xtrain,y_train)\n",
        "    \n",
        "    elif MODEL['method_name'] == \"AdaBoost\":\n",
        "        Classifier = AdaBoostClassifier(n_estimators=50,random_state=5).fit(xtrain,y_train)\n",
        "        \n",
        "    else:\n",
        "        return False\n",
        "    \n",
        "    return Classifier"
      ]
    },
    {
      "cell_type": "code",
      "execution_count": 12,
      "metadata": {},
      "outputs": [],
      "source": [
        "def get_objective(subset):\n",
        "    xtest = testdf.iloc[:,get_attribute_subset(subset)]\n",
        "    return get_classifier(subset).score(xtest,y_true).round(4)"
      ]
    },
    {
      "cell_type": "markdown",
      "metadata": {
        "id": "loagxEDKu664"
      },
      "source": [
        "## 2.5 Search Strategies Functions"
      ]
    },
    {
      "cell_type": "code",
      "execution_count": 13,
      "metadata": {},
      "outputs": [],
      "source": [
        "def BackwardSearch():\n",
        "    start_time = time.time()\n",
        "    base = [1 for _ in range(22)]\n",
        "    for vert in range(len(base)):\n",
        "        base_accuracy = get_objective(base)\n",
        "        base_distance = 1\n",
        "        idx=0\n",
        "        for horiz in range(len(base)):\n",
        "            if base[horiz]==0: continue\n",
        "            if base[horiz]==1: \n",
        "                base[horiz]=0 #toggle value\n",
        "                accuracy = get_objective(base)\n",
        "                dist = abs(base_accuracy - accuracy)\n",
        "                if dist <base_distance:\n",
        "                    base_distance = dist\n",
        "                    idx=horiz\n",
        "                base[horiz]=1 # re-toggle value        \n",
        "        base[idx] = 0 #remove most redundant attribute\n",
        "        if sum(base)==MODEL['target_num_of_features']:\n",
        "            MODEL['elapsed_train_time'] = time.time() - start_time\n",
        "            MODEL['trained'] = True\n",
        "            MODEL['subset'] = base\n",
        "            MODEL['accuracy'] = get_objective(base)\n",
        "            MODEL['cls'] = get_classifier(base)\n",
        "            return True\n",
        "    return False    \n"
      ]
    },
    {
      "cell_type": "code",
      "execution_count": 14,
      "metadata": {},
      "outputs": [],
      "source": [
        "def ForwardSearch():\n",
        "    start_time = time.time()\n",
        "    all_attr = 22\n",
        "    base = [0 for _ in range(all_attr)]\n",
        "    for vert in range(all_attr):\n",
        "        base_acc = 0 \n",
        "        for horiz in range(all_attr):\n",
        "            if base[horiz]==0:\n",
        "                base[horiz]=1 #include attribute\n",
        "                accuracy = get_objective(base)\n",
        "                if accuracy>base_acc:\n",
        "                    base_acc = accuracy\n",
        "                    idx = horiz\n",
        "                base[horiz]=0\n",
        "        \n",
        "        base[idx] = 1 #add most valuable attribute\n",
        "        \n",
        "        if sum(base) == MODEL['target_num_of_features']:\n",
        "            MODEL['elapsed_train_time'] = time.time() - start_time\n",
        "            MODEL['trained'] = True\n",
        "            MODEL['subset'] = base\n",
        "            MODEL['accuracy'] = get_objective(base)\n",
        "            MODEL['cls'] = get_classifier(base)\n",
        "\n",
        "            return True\n",
        "        \n",
        "    return False"
      ]
    },
    {
      "cell_type": "code",
      "execution_count": 15,
      "metadata": {},
      "outputs": [],
      "source": [
        "def GA_Search(X):\n",
        "    if sum(X) !=MODEL['target_num_of_features']:\n",
        "        return 10\n",
        "    return -get_objective(X)"
      ]
    },
    {
      "cell_type": "markdown",
      "metadata": {},
      "source": [
        "## 2.6 Create Model Function"
      ]
    },
    {
      "cell_type": "code",
      "execution_count": 16,
      "metadata": {},
      "outputs": [],
      "source": [
        "def Create_MODEL(target_num_of_features:int,search_mode:str,method_name:str,safety_score_mode:str):\n",
        "    #0. Set Model Parameters\n",
        "    _MODEL = {\n",
        "       'target_num_of_features':target_num_of_features,\n",
        "       'method_name':method_name,\n",
        "       'search_mode':search_mode,\n",
        "       'safety_score_mode':safety_score_mode,\n",
        "       \n",
        "       # reset results information to None\n",
        "       'cls':0,\n",
        "       'subset':[],\n",
        "       'accuracy':0,\n",
        "       'elapsed_train_time':0\n",
        "    }\n",
        "  \n",
        "    #1. Quantify Likert Scale and Calcuate Medians for Dimension\n",
        "    df['D1'] = df[dim1].median(axis=1).map(quantify_likert_scale)\n",
        "    df['D2'] = df[dim2].median(axis=1).map(quantify_likert_scale)\n",
        "    df['D3'] = df[dim3].median(axis=1).map(quantify_likert_scale)\n",
        "    df['D4'] = df[dim4].median(axis=1).map(quantify_likert_scale)\n",
        "    df['D5'] = df[dim5].median(axis=1).map(quantify_likert_scale)\n",
        "\n",
        "    #2. Calculate Saefty Score\n",
        "    if _MODEL['safety_score_mode'] ==\"SAW\":     # Safety_score using SAW Method\n",
        "        weight = [len(i)/22 for i in all_dim]\n",
        "        df['safety_score'] = df.loc[:,'D1':'D5'].apply(lambda X: sum([round(x*w,2) for (x,w) in zip (X,weight)]),axis=1)\n",
        "    elif _MODEL['safety_score_mode'] == \"EUC\":  #Calculate Safety Score using Euclidean Distance\n",
        "        euclidean_distance=(df['D1']**2 + df['D2']**2 + df['D3']**2 + df['D4']**2 + df['D5']**2)**0.5   #using Euclidean distance\n",
        "        # Normalize Safety Score from 0 to 1\n",
        "        df['safety_score']= preprocessing.normalize([np.array(euclidean_distance)],norm='max').transpose().round(2)\n",
        "    \n",
        "    #3. Assign Safety Classes\n",
        "    df['safety_class'] = df['safety_score'].apply(get_safety_class)\n",
        "\n",
        "    # for binary class assignment\n",
        "    df['binary_class'] = df['safety_score'].apply (lambda x: 1 if x>=df.safety_score.mean() else 0) \n",
        "\n",
        "    #4. Train-Test Data Split\n",
        "    global traindf, testdf, y_train, y_true\n",
        "    traindf, testdf = train_test_split(df,train_size=0.70,random_state=10)\n",
        "    y_train = traindf['safety_class']\n",
        "    y_true = testdf['safety_class']\n",
        " \n",
        "    return _MODEL"
      ]
    },
    {
      "cell_type": "markdown",
      "metadata": {},
      "source": [
        "## 2.7 Train Model Function"
      ]
    },
    {
      "cell_type": "code",
      "execution_count": 17,
      "metadata": {},
      "outputs": [],
      "source": [
        "def train_model():\n",
        "    if MODEL['search_mode']==\"BSS\":\n",
        "        BackwardSearch()\n",
        "    elif MODEL['search_mode']==\"FSS\":\n",
        "        ForwardSearch()\n",
        "    elif MODEL['search_mode']==\"GA_Search\":\n",
        "        ga_algo_params = {'max_num_iteration': 50,\\\n",
        "                   'population_size':32,\\\n",
        "                   'mutation_probability':0.1,\\\n",
        "                   'elit_ratio': 0.01,\\\n",
        "                   'crossover_probability': 0.5,\\\n",
        "                   'parents_portion': 0.3,\\\n",
        "                   'crossover_type':'uniform',\\\n",
        "                   'max_iteration_without_improv':20}\n",
        "        ga_model = ga(function=GA_Search,dimension=22,\n",
        "                    variable_type='bool',\n",
        "                    algorithm_parameters=ga_algo_params,\n",
        "                    progress_bar=False)\n",
        "        start_time = time.time()\n",
        "        ga_model.run()\n",
        "        MODEL['elapsed_train_time'] = time.time()-start_time\n",
        "        MODEL['trained'] = True\n",
        "        MODEL['subset'] = ga_model.best_variable.astype(int)\n",
        "        MODEL['accuracy'] = -ga_model.best_function\n",
        "        MODEL['cls'] = get_classifier(ga_model.best_variable.astype(int))\n",
        "    \n",
        "    #Make Prediction\n",
        "    xtest = testdf.iloc[:,get_attribute_subset(MODEL['subset'])]\n",
        "    start_time = time.time()\n",
        "    MODEL['y_predict'] = MODEL['cls'].predict(xtest)\n",
        "    MODEL['elapsed_predict_time'] = time.time()-start_time\n",
        "    "
      ]
    },
    {
      "cell_type": "markdown",
      "metadata": {},
      "source": [
        "## 2.8 Run Model Function"
      ]
    },
    {
      "cell_type": "code",
      "execution_count": 18,
      "metadata": {},
      "outputs": [],
      "source": [
        "def RUN_MODEL(target:int, search_param:str,method_name:str,safety_score_mode):\n",
        "    global MODEL\n",
        "    MODEL = Create_MODEL(target,search_param,method_name,safety_score_mode)\n",
        "    train_model()\n",
        "    return MODEL\n"
      ]
    },
    {
      "cell_type": "code",
      "execution_count": 19,
      "metadata": {},
      "outputs": [],
      "source": [
        "def MODEL_Results():\n",
        "    if MODEL['trained']:\n",
        "        cm=confusion_matrix(y_true,MODEL['y_predict'])\n",
        "        labels = df.safety_class.sort_values().unique()\n",
        "        cm_display = ConfusionMatrixDisplay(cm,display_labels=labels).plot()\n",
        "        print(classification_report(y_true,MODEL['y_predict'],zero_division = 0))\n",
        "    else:\n",
        "        print(\"Model not trained!\")\n",
        "        return False\n"
      ]
    },
    {
      "cell_type": "markdown",
      "metadata": {},
      "source": [
        "## 2.9 Export all results to Excel"
      ]
    },
    {
      "cell_type": "code",
      "execution_count": 20,
      "metadata": {},
      "outputs": [],
      "source": [
        "def results_to_excel():\n",
        "    applied_methods = ['RF','Bagging','AdaBoost','SVM','NB','KNN']\n",
        "    SearchStrategies = ['BSS','FSS','GA_Search']\n",
        "    Target_features = [14,11,6]\n",
        "    all_results = []\n",
        "\n",
        "    for method in applied_methods:\n",
        "        for SearchStrategy in SearchStrategies:\n",
        "            for target in Target_features:\n",
        "                ans = RUN_MODEL(target,SearchStrategy,method,\"SAW\")\n",
        "                all_results.append((SearchStrategy,method,target,subset2str(ans['subset']),solution_string(ans['subset']),\n",
        "                                    ans['accuracy'], ans['elapsed_train_time'],ans['elapsed_predict_time'],ans['y_predict']))\n",
        "\n",
        "    global resultsDF\n",
        "    resultsDF = pd.DataFrame(all_results,columns=['search','method','target','subset_array','subset','accuracy','Train_Time','Predict_time','y_predict'])\n",
        "\n",
        "    resultsDF.to_excel(\"model_results.xlsx\")\n",
        "    \n"
      ]
    },
    {
      "cell_type": "markdown",
      "metadata": {},
      "source": [
        "# 3. **RUN** MODEL"
      ]
    },
    {
      "cell_type": "code",
      "execution_count": 21,
      "metadata": {},
      "outputs": [
        {
          "data": {
            "text/plain": [
              "{'target_num_of_features': 14,\n",
              " 'method_name': 'KNN',\n",
              " 'search_mode': 'BSS',\n",
              " 'safety_score_mode': 'SAW',\n",
              " 'cls': KNeighborsClassifier(),\n",
              " 'subset': [1, 0, 0, 0, 0, 0, 1, 1, 1, 0, 1, 0, 1, 1, 1, 1, 1, 0, 1, 1, 1, 1],\n",
              " 'accuracy': 0.9043,\n",
              " 'elapsed_train_time': 1.1027019023895264,\n",
              " 'trained': True,\n",
              " 'y_predict': array([5, 5, 4, 5, 5, 5, 5, 5, 5, 4, 5, 5, 5, 5, 5, 5, 5, 5, 5, 5, 5, 5,\n",
              "        5, 5, 5, 5, 5, 5, 5, 5, 5, 5, 5, 5, 5, 5, 5, 5, 5, 5, 5, 4, 4, 5,\n",
              "        5, 4, 5, 5, 4, 5, 5, 5, 5, 5, 5, 5, 5, 1, 5, 5, 4, 5, 5, 4, 5, 5,\n",
              "        5, 5, 5, 5, 5, 5, 5, 5, 5, 5, 5, 5, 5, 5, 5, 4, 5, 5, 5, 4, 5, 5,\n",
              "        5, 5, 4, 5, 5, 5]),\n",
              " 'elapsed_predict_time': 0.004102945327758789}"
            ]
          },
          "execution_count": 21,
          "metadata": {},
          "output_type": "execute_result"
        }
      ],
      "source": [
        "RUN_MODEL(14,\"BSS\",\"KNN\",\"SAW\")"
      ]
    },
    {
      "cell_type": "code",
      "execution_count": 23,
      "metadata": {},
      "outputs": [
        {
          "name": "stdout",
          "output_type": "stream",
          "text": [
            " The best solution found:\n",
            " [1. 0. 0. 1. 1. 1. 1. 1. 0. 1. 1. 1. 0. 1. 0. 1. 0. 0. 0. 1. 1. 1.]\n",
            "\n",
            " Objective function:\n",
            " -0.9255\n"
          ]
        },
        {
          "data": {
            "image/png": "[encoded data removed]",
            "text/plain": [
              "<Figure size 432x288 with 1 Axes>"
            ]
          },
          "metadata": {
            "needs_background": "light"
          },
          "output_type": "display_data"
        },
        {
          "name": "stdout",
          "output_type": "stream",
          "text": [
            "\n",
            "Warning: GA is terminated due to the maximum number of iterations without improvement was met!"
          ]
        },
        {
          "data": {
            "text/plain": [
              "{'target_num_of_features': 14,\n",
              " 'method_name': 'RF',\n",
              " 'search_mode': 'GA_Search',\n",
              " 'safety_score_mode': 'SAW',\n",
              " 'cls': RandomForestClassifier(random_state=1),\n",
              " 'subset': array([1, 0, 0, 1, 1, 1, 1, 1, 0, 1, 1, 1, 0, 1, 0, 1, 0, 0, 0, 1, 1, 1]),\n",
              " 'accuracy': 0.9255,\n",
              " 'elapsed_train_time': 54.18129825592041,\n",
              " 'trained': True,\n",
              " 'y_predict': array([5, 5, 4, 5, 5, 5, 5, 5, 5, 3, 5, 5, 5, 5, 5, 5, 5, 5, 5, 4, 5, 5,\n",
              "        5, 5, 5, 5, 5, 5, 4, 5, 5, 5, 5, 5, 5, 5, 5, 5, 5, 5, 5, 4, 4, 5,\n",
              "        5, 4, 5, 5, 4, 5, 5, 5, 5, 5, 5, 5, 5, 1, 5, 5, 5, 5, 5, 4, 5, 5,\n",
              "        5, 5, 5, 5, 5, 5, 5, 5, 5, 5, 5, 5, 5, 5, 5, 5, 5, 5, 5, 5, 5, 5,\n",
              "        5, 5, 4, 5, 5, 5]),\n",
              " 'elapsed_predict_time': 0.012714862823486328}"
            ]
          },
          "execution_count": 23,
          "metadata": {},
          "output_type": "execute_result"
        }
      ],
      "source": [
        "RUN_MODEL(14,\"GA_Search\",\"RF\",\"SAW\")"
      ]
    },
    {
      "cell_type": "code",
      "execution_count": 22,
      "metadata": {},
      "outputs": [
        {
          "name": "stdout",
          "output_type": "stream",
          "text": [
            " The best solution found:\n",
            " [1. 1. 0. 1. 0. 0. 1. 0. 1. 1. 0. 1. 1. 1. 1. 0. 1. 1. 0. 1. 1. 0.]\n",
            "\n",
            " Objective function:\n",
            " -0.9255\n"
          ]
        },
        {
          "data": {
            "image/png": "[encoded data removed]",
            "text/plain": [
              "<Figure size 432x288 with 1 Axes>"
            ]
          },
          "metadata": {
            "needs_background": "light"
          },
          "output_type": "display_data"
        },
        {
          "name": "stdout",
          "output_type": "stream",
          "text": [
            "\n",
            " The best solution found: due to the maximum number of iterations without improvement was met!\n",
            " [1. 0. 1. 0. 0. 1. 0. 1. 0. 0. 0. 1. 0. 0. 1. 1. 1. 0. 0. 1. 1. 1.]\n",
            "\n",
            " Objective function:\n",
            " -0.8936\n"
          ]
        },
        {
          "data": {
            "image/png": "[encoded data removed]",
            "text/plain": [
              "<Figure size 432x288 with 1 Axes>"
            ]
          },
          "metadata": {
            "needs_background": "light"
          },
          "output_type": "display_data"
        },
        {
          "name": "stdout",
          "output_type": "stream",
          "text": [
            "\n",
            " The best solution found: due to the maximum number of iterations without improvement was met!\n",
            " [0. 0. 0. 1. 1. 0. 1. 0. 1. 0. 1. 0. 0. 0. 0. 0. 0. 1. 0. 0. 0. 0.]\n",
            "\n",
            " Objective function:\n",
            " -0.883\n"
          ]
        },
        {
          "data": {
            "image/png": "[encoded data removed]",
            "text/plain": [
              "<Figure size 432x288 with 1 Axes>"
            ]
          },
          "metadata": {
            "needs_background": "light"
          },
          "output_type": "display_data"
        },
        {
          "name": "stdout",
          "output_type": "stream",
          "text": [
            "\n",
            " The best solution found: due to the maximum number of iterations without improvement was met!\n",
            " [1. 0. 1. 1. 0. 1. 1. 1. 0. 0. 1. 0. 1. 1. 1. 0. 0. 1. 0. 1. 1. 1.]\n",
            "\n",
            " Objective function:\n",
            " -0.9149\n"
          ]
        },
        {
          "data": {
            "image/png": "[encoded data removed]",
            "text/plain": [
              "<Figure size 432x288 with 1 Axes>"
            ]
          },
          "metadata": {
            "needs_background": "light"
          },
          "output_type": "display_data"
        },
        {
          "name": "stdout",
          "output_type": "stream",
          "text": [
            " The best solution found:\n",
            " [0. 1. 1. 0. 1. 0. 1. 0. 1. 0. 1. 1. 1. 0. 1. 1. 0. 0. 0. 1. 0. 0.]\n",
            "\n",
            " Objective function:\n",
            " -0.9043\n"
          ]
        },
        {
          "data": {
            "image/png": "[encoded data removed]",
            "text/plain": [
              "<Figure size 432x288 with 1 Axes>"
            ]
          },
          "metadata": {
            "needs_background": "light"
          },
          "output_type": "display_data"
        },
        {
          "name": "stdout",
          "output_type": "stream",
          "text": [
            "\n",
            " The best solution found: due to the maximum number of iterations without improvement was met!\n",
            " [0. 0. 1. 1. 1. 0. 0. 1. 0. 0. 0. 0. 0. 0. 0. 0. 0. 0. 0. 1. 1. 0.]\n",
            "\n",
            " Objective function:\n",
            " -0.9149\n"
          ]
        },
        {
          "data": {
            "image/png": "[encoded data removed]",
            "text/plain": [
              "<Figure size 432x288 with 1 Axes>"
            ]
          },
          "metadata": {
            "needs_background": "light"
          },
          "output_type": "display_data"
        },
        {
          "name": "stdout",
          "output_type": "stream",
          "text": [
            "\n",
            " The best solution found: due to the maximum number of iterations without improvement was met!\n",
            " [0. 1. 0. 1. 1. 0. 1. 1. 1. 0. 0. 0. 1. 1. 1. 0. 1. 1. 0. 1. 1. 1.]\n",
            "\n",
            " Objective function:\n",
            " -0.8404\n"
          ]
        },
        {
          "data": {
            "image/png": "[encoded data removed]",
            "text/plain": [
              "<Figure size 432x288 with 1 Axes>"
            ]
          },
          "metadata": {
            "needs_background": "light"
          },
          "output_type": "display_data"
        },
        {
          "name": "stdout",
          "output_type": "stream",
          "text": [
            "\n",
            " The best solution found: due to the maximum number of iterations without improvement was met!\n",
            " [0. 0. 1. 0. 1. 1. 1. 1. 0. 1. 1. 1. 1. 0. 0. 1. 0. 0. 0. 0. 0. 1.]\n",
            "\n",
            " Objective function:\n",
            " -0.8404\n"
          ]
        },
        {
          "data": {
            "image/png": "[encoded data removed]",
            "text/plain": [
              "<Figure size 432x288 with 1 Axes>"
            ]
          },
          "metadata": {
            "needs_background": "light"
          },
          "output_type": "display_data"
        },
        {
          "name": "stdout",
          "output_type": "stream",
          "text": [
            "\n",
            " The best solution found: due to the maximum number of iterations without improvement was met!\n",
            " [0. 0. 0. 1. 0. 0. 1. 1. 1. 0. 0. 0. 1. 0. 0. 0. 0. 0. 0. 0. 0. 1.]\n",
            "\n",
            " Objective function:\n",
            " -0.8511\n"
          ]
        },
        {
          "data": {
            "image/png": "[encoded data removed]",
            "text/plain": [
              "<Figure size 432x288 with 1 Axes>"
            ]
          },
          "metadata": {
            "needs_background": "light"
          },
          "output_type": "display_data"
        },
        {
          "name": "stdout",
          "output_type": "stream",
          "text": [
            " The best solution found:\n",
            " [0. 1. 0. 1. 0. 1. 1. 1. 1. 0. 1. 0. 1. 0. 0. 1. 0. 1. 1. 1. 1. 1.]\n",
            "\n",
            " Objective function:\n",
            " -0.9149\n"
          ]
        },
        {
          "data": {
            "image/png": "[encoded data removed]",
            "text/plain": [
              "<Figure size 432x288 with 1 Axes>"
            ]
          },
          "metadata": {
            "needs_background": "light"
          },
          "output_type": "display_data"
        },
        {
          "name": "stdout",
          "output_type": "stream",
          "text": [
            "\n",
            " The best solution found: due to the maximum number of iterations without improvement was met!\n",
            " [1. 0. 1. 0. 1. 1. 0. 0. 0. 1. 0. 0. 1. 1. 0. 0. 0. 1. 0. 1. 1. 1.]\n",
            "\n",
            " Objective function:\n",
            " -0.8936\n"
          ]
        },
        {
          "data": {
            "image/png": "[encoded data removed]",
            "text/plain": [
              "<Figure size 432x288 with 1 Axes>"
            ]
          },
          "metadata": {
            "needs_background": "light"
          },
          "output_type": "display_data"
        },
        {
          "name": "stdout",
          "output_type": "stream",
          "text": [
            "\n",
            " The best solution found: due to the maximum number of iterations without improvement was met!\n",
            " [1. 1. 0. 0. 0. 0. 1. 0. 0. 1. 0. 0. 0. 0. 0. 0. 0. 0. 0. 0. 1. 1.]\n",
            "\n",
            " Objective function:\n",
            " -0.883\n"
          ]
        },
        {
          "data": {
            "image/png": "[encoded data removed]",
            "text/plain": [
              "<Figure size 432x288 with 1 Axes>"
            ]
          },
          "metadata": {
            "needs_background": "light"
          },
          "output_type": "display_data"
        },
        {
          "name": "stdout",
          "output_type": "stream",
          "text": [
            "\n",
            " The best solution found: due to the maximum number of iterations without improvement was met!\n",
            " [0. 1. 0. 0. 0. 1. 1. 0. 0. 1. 1. 1. 1. 1. 0. 1. 1. 1. 0. 1. 1. 1.]\n",
            "\n",
            " Objective function:\n",
            " -0.9043\n"
          ]
        },
        {
          "data": {
            "image/png": "[encoded data removed]",
            "text/plain": [
              "<Figure size 432x288 with 1 Axes>"
            ]
          },
          "metadata": {
            "needs_background": "light"
          },
          "output_type": "display_data"
        },
        {
          "name": "stdout",
          "output_type": "stream",
          "text": [
            " The best solution found:\n",
            " [0. 0. 0. 0. 0. 0. 1. 1. 1. 1. 1. 1. 0. 0. 1. 1. 1. 0. 0. 1. 1. 0.]\n",
            "\n",
            " Objective function:\n",
            " -0.9255\n"
          ]
        },
        {
          "data": {
            "image/png": "[encoded data removed]",
            "text/plain": [
              "<Figure size 432x288 with 1 Axes>"
            ]
          },
          "metadata": {
            "needs_background": "light"
          },
          "output_type": "display_data"
        },
        {
          "name": "stdout",
          "output_type": "stream",
          "text": [
            " The best solution found:\n",
            " [0. 0. 0. 0. 0. 0. 1. 0. 1. 1. 0. 0. 0. 0. 1. 0. 0. 0. 0. 0. 1. 1.]\n",
            "\n",
            " Objective function:\n",
            " -0.883\n"
          ]
        },
        {
          "data": {
            "image/png": "[encoded data removed]",
            "text/plain": [
              "<Figure size 432x288 with 1 Axes>"
            ]
          },
          "metadata": {
            "needs_background": "light"
          },
          "output_type": "display_data"
        },
        {
          "name": "stdout",
          "output_type": "stream",
          "text": [
            " The best solution found:\n",
            " [1. 0. 0. 0. 1. 1. 0. 1. 1. 1. 1. 0. 1. 1. 1. 0. 1. 1. 0. 1. 1. 0.]\n",
            "\n",
            " Objective function:\n",
            " -0.9362\n"
          ]
        },
        {
          "data": {
            "image/png": "[encoded data removed]",
            "text/plain": [
              "<Figure size 432x288 with 1 Axes>"
            ]
          },
          "metadata": {
            "needs_background": "light"
          },
          "output_type": "display_data"
        },
        {
          "name": "stdout",
          "output_type": "stream",
          "text": [
            "\n",
            " The best solution found: due to the maximum number of iterations without improvement was met!\n",
            " [1. 1. 0. 0. 0. 1. 1. 0. 1. 1. 1. 0. 1. 0. 0. 1. 0. 0. 0. 0. 1. 1.]\n",
            "\n",
            " Objective function:\n",
            " -0.9043\n"
          ]
        },
        {
          "data": {
            "image/png": "[encoded data removed]",
            "text/plain": [
              "<Figure size 432x288 with 1 Axes>"
            ]
          },
          "metadata": {
            "needs_background": "light"
          },
          "output_type": "display_data"
        },
        {
          "name": "stdout",
          "output_type": "stream",
          "text": [
            "\n",
            " The best solution found: due to the maximum number of iterations without improvement was met!\n",
            " [0. 0. 0. 1. 0. 0. 0. 1. 1. 0. 0. 0. 0. 1. 0. 0. 0. 0. 0. 1. 1. 0.]\n",
            "\n",
            " Objective function:\n",
            " -0.9043\n"
          ]
        },
        {
          "data": {
            "image/png": "[encoded data removed]",
            "text/plain": [
              "<Figure size 432x288 with 1 Axes>"
            ]
          },
          "metadata": {
            "needs_background": "light"
          },
          "output_type": "display_data"
        },
        {
          "name": "stdout",
          "output_type": "stream",
          "text": [
            "\n",
            "Warning: GA is terminated due to the maximum number of iterations without improvement was met!"
          ]
        }
      ],
      "source": [
        "results_to_excel()"
      ]
    },
    {
      "cell_type": "markdown",
      "metadata": {},
      "source": [
        "# 4. Validate Results"
      ]
    },
    {
      "cell_type": "code",
      "execution_count": 74,
      "metadata": {},
      "outputs": [],
      "source": [
        "safety_class_labels = [1,2,3,4,5]"
      ]
    },
    {
      "cell_type": "markdown",
      "metadata": {},
      "source": [
        "## 4.1 for selected 14 Features"
      ]
    },
    {
      "cell_type": "code",
      "execution_count": 77,
      "metadata": {},
      "outputs": [
        {
          "name": "stdout",
          "output_type": "stream",
          "text": [
            "Evaluating Results - 14 selected features\n",
            "              precision    recall  f1-score   support\n",
            "\n",
            "           1       1.00      1.00      1.00         1\n",
            "           2       0.00      0.00      0.00         1\n",
            "           3       1.00      1.00      1.00         1\n",
            "           4       0.90      0.64      0.75        14\n",
            "           5       0.94      1.00      0.97        77\n",
            "\n",
            "    accuracy                           0.94        94\n",
            "   macro avg       0.77      0.73      0.74        94\n",
            "weighted avg       0.92      0.94      0.93        94\n",
            "\n"
          ]
        },
        {
          "data": {
            "text/plain": [
              "<sklearn.metrics._plot.confusion_matrix.ConfusionMatrixDisplay at 0x12eb8e520>"
            ]
          },
          "execution_count": 77,
          "metadata": {},
          "output_type": "execute_result"
        },
        {
          "data": {
            "image/png": "[encoded data removed]",
            "text/plain": [
              "<Figure size 432x288 with 2 Axes>"
            ]
          },
          "metadata": {
            "needs_background": "light"
          },
          "output_type": "display_data"
        }
      ],
      "source": [
        "FSS_KNN_14_predicted_class =    [5,5,4,5,5,5,5,5,5,3,5,5,5,5,5,5,5,5,5,4,5,5,5,5,5,5,5,5,4,5,5,5,\n",
        "                                5,5,5,5,5,5,5,5,5,4,4,5,5,4,5,5,4,5,5,5,5,5,5,5,5,1,5,5,4,5,5,4,5,\n",
        "                                5,5,5,5,5,5,5,5,5,5,5,5,5,5,5,5,5,5,5,5,5,5,5,5,5,4,5,5,5]\n",
        "print(\"Evaluating Results - 14 selected features\")\n",
        "CM14 = confusion_matrix(y_true,FSS_KNN_14_predicted_class,labels=safety_class_labels)\n",
        "print(classification_report(y_true,FSS_KNN_14_predicted_class,zero_division=0))\n",
        "ConfusionMatrixDisplay(CM14,display_labels=safety_class_labels).plot()\n"
      ]
    },
    {
      "cell_type": "markdown",
      "metadata": {},
      "source": [
        "## 4.2 for selected 11 Features"
      ]
    },
    {
      "cell_type": "code",
      "execution_count": 78,
      "metadata": {},
      "outputs": [
        {
          "name": "stdout",
          "output_type": "stream",
          "text": [
            "Evaluating Results - 11 selected features\n",
            "              precision    recall  f1-score   support\n",
            "\n",
            "           1       1.00      1.00      1.00         1\n",
            "           2       0.00      0.00      0.00         1\n",
            "           3       1.00      1.00      1.00         1\n",
            "           4       0.77      0.71      0.74        14\n",
            "           5       0.95      0.97      0.96        77\n",
            "\n",
            "    accuracy                           0.93        94\n",
            "   macro avg       0.74      0.74      0.74        94\n",
            "weighted avg       0.91      0.93      0.92        94\n",
            "\n"
          ]
        },
        {
          "data": {
            "text/plain": [
              "<sklearn.metrics._plot.confusion_matrix.ConfusionMatrixDisplay at 0x12ea49370>"
            ]
          },
          "execution_count": 78,
          "metadata": {},
          "output_type": "execute_result"
        },
        {
          "data": {
            "image/png": "[encoded data removed]",
            "text/plain": [
              "<Figure size 432x288 with 2 Axes>"
            ]
          },
          "metadata": {
            "needs_background": "light"
          },
          "output_type": "display_data"
        }
      ],
      "source": [
        "FSS_GNB_11_predicted_class =    [5,5,4,5,5,5,5,5,5,3,5,5,5,5,5,5,5,5,5,4,4,5,5,5,5,5,5,5,4,5,5,5,5,5,5,\n",
        "                                5,5,5,5,5,5,4,4,5,5,4,5,5,4,4,5,5,5,5,5,5,5,1,5,5,4,5,5,4,5,5,5,5,5,5,5,\n",
        "                                5,5,5,5,5,5,5,5,5,5,5,5,5,5,4,5,5,5,5,4,5,5,5]\n",
        "print(\"Evaluating Results - 11 selected features\")\n",
        "CM11 = confusion_matrix(y_true,FSS_GNB_11_predicted_class)\n",
        "print(classification_report(y_true,FSS_GNB_11_predicted_class,zero_division=0))\n",
        "ConfusionMatrixDisplay(CM11,display_labels=safety_class_labels).plot()\n"
      ]
    },
    {
      "cell_type": "markdown",
      "metadata": {},
      "source": [
        "## 4.3 for selected 6 Features"
      ]
    },
    {
      "cell_type": "code",
      "execution_count": 79,
      "metadata": {},
      "outputs": [
        {
          "name": "stdout",
          "output_type": "stream",
          "text": [
            "Evaluating Results - 6 selected features\n",
            "              precision    recall  f1-score   support\n",
            "\n",
            "           1       1.00      1.00      1.00         1\n",
            "           2       0.00      0.00      0.00         1\n",
            "           3       1.00      1.00      1.00         1\n",
            "           4       0.75      0.64      0.69        14\n",
            "           5       0.95      0.97      0.96        77\n",
            "\n",
            "    accuracy                           0.91        94\n",
            "   macro avg       0.74      0.72      0.73        94\n",
            "weighted avg       0.91      0.91      0.91        94\n",
            "\n"
          ]
        },
        {
          "data": {
            "text/plain": [
              "<sklearn.metrics._plot.confusion_matrix.ConfusionMatrixDisplay at 0x12efa0c10>"
            ]
          },
          "execution_count": 79,
          "metadata": {},
          "output_type": "execute_result"
        },
        {
          "data": {
            "image/png": "[encoded data removed]",
            "text/plain": [
              "<Figure size 432x288 with 2 Axes>"
            ]
          },
          "metadata": {
            "needs_background": "light"
          },
          "output_type": "display_data"
        }
      ],
      "source": [
        "FSS_GNB_06_predicted_class =    [5,5,4,5,5,5,5,5,5,3,5,5,5,5,5,5,5,4,5,4,4,5,5,5,5,5,5,5,4,5,5,5,5,5,5,\n",
        "                                5,4,5,5,5,5,4,5,5,5,4,5,5,4,5,5,5,5,5,5,5,5,1,5,5,2,5,5,4,5,5,5,5,5,5,\n",
        "                                5,5,5,5,5,5,5,5,5,5,5,5,5,5,5,4,5,5,5,5,4,5,5,5]\n",
        "print(\"Evaluating Results - 6 selected features\")\n",
        "CM06 = confusion_matrix(y_true,FSS_GNB_06_predicted_class)\n",
        "print(classification_report(y_true,FSS_GNB_06_predicted_class,zero_division=0))\n",
        "ConfusionMatrixDisplay(CM06,display_labels=safety_class_labels).plot()\n"
      ]
    },
    {
      "cell_type": "markdown",
      "metadata": {
        "id": "hEDzbK0oOl6C"
      },
      "source": [
        "# Correlation Analysis"
      ]
    },
    {
      "cell_type": "code",
      "execution_count": null,
      "metadata": {
        "id": "h76Dg8MaOl6C",
        "outputId": "a6314513-80cd-49ee-96dc-63a971f0a8cc"
      },
      "outputs": [],
      "source": [
        "#Correlation of each feature and Safety Score\n",
        "\n",
        "features = df.iloc[:,5:27].columns\n",
        "\n",
        "for f in features:\n",
        "    correl,pval = spearmanr(df[f],df.safety_score)\n",
        "    print (\"Correlation of \",f,\"& Safety score\",correl.round(4),\" pvalue=\",pval)"
      ]
    },
    {
      "cell_type": "code",
      "execution_count": null,
      "metadata": {
        "id": "MEHbJ7MBOl6D",
        "outputId": "74e6f0b7-0408-4837-fbbd-127a87703597"
      },
      "outputs": [],
      "source": [
        "for d in All_Dimensions:\n",
        "    print (\"Correlation of \",d,\"and Normalized Safety score\",spearmanr(df[d],df.safety_score))"
      ]
    }
  ],
  "metadata": {
    "colab": {
      "collapsed_sections": [
        "8NH8YNs4XZoK",
        "nT6qx46_Ol59",
        "saXJ7V-opv0a",
        "WOiFe4ZwOl5-",
        "-H1O1Xk8YRg1",
        "2B913o4wgeZQ",
        "bC1XbmVgOl6K",
        "loagxEDKu664",
        "7FK3LEIDOl6M",
        "iA8ipxw-ERCj",
        "_9l8O5MNvnjP",
        "hEDzbK0oOl6C",
        "KW_6YlqwOl6F"
      ],
      "name": "Feature Selection – Likert Scale Data (Final).ipynb",
      "provenance": []
    },
    "kernelspec": {
      "display_name": "Python 3.9.12 ('base')",
      "language": "python",
      "name": "python3"
    },
    "language_info": {
      "codemirror_mode": {
        "name": "ipython",
        "version": 3
      },
      "file_extension": ".py",
      "mimetype": "text/x-python",
      "name": "python",
      "nbconvert_exporter": "python",
      "pygments_lexer": "ipython3",
      "version": "3.9.12"
    },
    "vscode": {
      "interpreter": {
        "hash": "cee4b64e3efee54ac0573193ecdfc20b53788948aa938725a06eeae316305701"
      }
    }
  },
  "nbformat": 4,
  "nbformat_minor": 0
}
